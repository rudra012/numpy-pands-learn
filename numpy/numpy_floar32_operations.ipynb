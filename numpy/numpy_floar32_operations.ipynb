{
 "cells": [
  {
   "cell_type": "code",
   "execution_count": 1,
   "metadata": {},
   "outputs": [
    {
     "name": "stdout",
     "output_type": "stream",
     "text": [
      "Numpy sum (channel):  [7.690537e+13 7.690853e+13 7.691411e+13]\n",
      "Numpy column sum (channel):  [9.1994165e+13 9.2004155e+13 9.2007075e+13]\n",
      "Loop sum: (channel)  [9.199430e+13 9.200430e+13 9.200718e+13]\n",
      "Numpy sum (all):  276005540000000.0\n",
      "Loop sum: (all)  276005327301176.0\n"
     ]
    }
   ],
   "source": [
    "import numpy as np\n",
    "# Numpy sum (and possibly mean) functions shows different behavior accross dimensions.\n",
    "# Comparison with loop.\n",
    "\n",
    "dtype_ = np.float32\n",
    "dataset_in_memory = []\n",
    "# Create 20000 time-series samples with feature size 3.\n",
    "for i in range(20000):\n",
    "    random_seq_len = np.random.randint(10, 4000, 1)\n",
    "    dataset_in_memory.append(np.random.uniform(-492, 4579905, (random_seq_len[0], 3)).astype(dtype_))\n",
    "####\n",
    "numpy_stack = np.concatenate(dataset_in_memory, axis=0)\n",
    "print(\"Numpy sum (channel): \", numpy_stack.sum(axis=0))\n",
    "####\n",
    "numpy_stack = np.concatenate(dataset_in_memory, axis=0)\n",
    "numpy_column_sum = np.array([numpy_stack[:, 0].sum(), numpy_stack[:, 1].sum(), numpy_stack[:, 2].sum()])\n",
    "print(\"Numpy column sum (channel): \", numpy_column_sum)\n",
    "####\n",
    "loop_sum_channel = 0.0\n",
    "loop_sum_all = 0.0\n",
    "for s in dataset_in_memory:\n",
    "    loop_sum_channel += s.sum(0)\n",
    "    loop_sum_all += s.sum()\n",
    "\n",
    "print(\"Loop sum: (channel) \", loop_sum_channel)\n",
    "####\n",
    "print(\"Numpy sum (all): \", numpy_stack.sum())\n",
    "print(\"Loop sum: (all) \", loop_sum_all)"
   ]
  },
  {
   "cell_type": "code",
   "execution_count": null,
   "metadata": {},
   "outputs": [],
   "source": []
  },
  {
   "cell_type": "code",
   "execution_count": null,
   "metadata": {},
   "outputs": [],
   "source": []
  },
  {
   "cell_type": "code",
   "execution_count": null,
   "metadata": {},
   "outputs": [],
   "source": []
  }
 ],
 "metadata": {
  "kernelspec": {
   "display_name": "Python 3",
   "language": "python",
   "name": "python3"
  },
  "language_info": {
   "codemirror_mode": {
    "name": "ipython",
    "version": 3
   },
   "file_extension": ".py",
   "mimetype": "text/x-python",
   "name": "python",
   "nbconvert_exporter": "python",
   "pygments_lexer": "ipython3",
   "version": "3.7.3"
  }
 },
 "nbformat": 4,
 "nbformat_minor": 2
}
